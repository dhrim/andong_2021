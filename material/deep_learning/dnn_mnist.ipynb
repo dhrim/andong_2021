{
  "nbformat": 4,
  "nbformat_minor": 0,
  "metadata": {
    "colab": {
      "name": "dnn_mnist.ipynb",
      "provenance": [],
      "collapsed_sections": []
    },
    "kernelspec": {
      "name": "python3",
      "display_name": "Python 3"
    }
  },
  "cells": [
    {
      "cell_type": "code",
      "metadata": {
        "id": "FFcDWF3ut-yS",
        "colab": {
          "base_uri": "https://localhost:8080/",
          "height": 36
        },
        "outputId": "d859bced-f80f-4160-9bd8-890336c6d780"
      },
      "source": [
        "%tensorflow_version 1.x"
      ],
      "execution_count": null,
      "outputs": [
        {
          "output_type": "stream",
          "text": [
            "TensorFlow 1.x selected.\n"
          ],
          "name": "stdout"
        }
      ]
    },
    {
      "cell_type": "code",
      "metadata": {
        "id": "pH--ADDvhXQM"
      },
      "source": [
        "import numpy as np\n",
        "import matplotlib.pyplot as plt\n",
        "\n",
        "import tensorflow as tf\n",
        "from tensorflow import keras\n",
        "from tensorflow.keras import optimizers\n",
        "from tensorflow.keras.layers import Dense, Flatten\n",
        "\n",
        "import time"
      ],
      "execution_count": null,
      "outputs": []
    },
    {
      "cell_type": "markdown",
      "metadata": {
        "id": "iY37KleXmoaY"
      },
      "source": [
        "# 데이터 준비"
      ]
    },
    {
      "cell_type": "markdown",
      "metadata": {
        "id": "5BEmcWKsmj6V"
      },
      "source": [
        "## 데이터 다운로드"
      ]
    },
    {
      "cell_type": "code",
      "metadata": {
        "id": "46F5aLlSlz6G",
        "colab": {
          "base_uri": "https://localhost:8080/",
          "height": 54
        },
        "outputId": "3dde7923-d145-4c98-c4de-fd36acfdceba"
      },
      "source": [
        "(raw_train_x, raw_train_y), (raw_test_x, raw_test_y) = tf.keras.datasets.mnist.load_data()"
      ],
      "execution_count": null,
      "outputs": [
        {
          "output_type": "stream",
          "text": [
            "Downloading data from https://storage.googleapis.com/tensorflow/tf-keras-datasets/mnist.npz\n",
            "11493376/11490434 [==============================] - 0s 0us/step\n"
          ],
          "name": "stdout"
        }
      ]
    },
    {
      "cell_type": "code",
      "metadata": {
        "id": "ZGtQOq_Pl_Hp",
        "colab": {
          "base_uri": "https://localhost:8080/",
          "height": 91
        },
        "outputId": "d15661c0-1f71-4ce1-8752-7535606b9231"
      },
      "source": [
        "print(raw_train_x.shape)\n",
        "print(raw_train_y.shape)\n",
        "print(raw_test_x.shape)\n",
        "print(raw_test_y.shape)"
      ],
      "execution_count": null,
      "outputs": [
        {
          "output_type": "stream",
          "text": [
            "(60000, 28, 28)\n",
            "(60000,)\n",
            "(10000, 28, 28)\n",
            "(10000,)\n"
          ],
          "name": "stdout"
        }
      ]
    },
    {
      "cell_type": "code",
      "metadata": {
        "id": "a8jaT4ZYRfKg",
        "colab": {
          "base_uri": "https://localhost:8080/",
          "height": 1000
        },
        "outputId": "1352bcbb-fcca-458d-cacf-6f4db9f6b832"
      },
      "source": [
        "print(raw_train_x[0])"
      ],
      "execution_count": null,
      "outputs": [
        {
          "output_type": "stream",
          "text": [
            "[[  0   0   0   0   0   0   0   0   0   0   0   0   0   0   0   0   0   0\n",
            "    0   0   0   0   0   0   0   0   0   0]\n",
            " [  0   0   0   0   0   0   0   0   0   0   0   0   0   0   0   0   0   0\n",
            "    0   0   0   0   0   0   0   0   0   0]\n",
            " [  0   0   0   0   0   0   0   0   0   0   0   0   0   0   0   0   0   0\n",
            "    0   0   0   0   0   0   0   0   0   0]\n",
            " [  0   0   0   0   0   0   0   0   0   0   0   0   0   0   0   0   0   0\n",
            "    0   0   0   0   0   0   0   0   0   0]\n",
            " [  0   0   0   0   0   0   0   0   0   0   0   0   0   0   0   0   0   0\n",
            "    0   0   0   0   0   0   0   0   0   0]\n",
            " [  0   0   0   0   0   0   0   0   0   0   0   0   3  18  18  18 126 136\n",
            "  175  26 166 255 247 127   0   0   0   0]\n",
            " [  0   0   0   0   0   0   0   0  30  36  94 154 170 253 253 253 253 253\n",
            "  225 172 253 242 195  64   0   0   0   0]\n",
            " [  0   0   0   0   0   0   0  49 238 253 253 253 253 253 253 253 253 251\n",
            "   93  82  82  56  39   0   0   0   0   0]\n",
            " [  0   0   0   0   0   0   0  18 219 253 253 253 253 253 198 182 247 241\n",
            "    0   0   0   0   0   0   0   0   0   0]\n",
            " [  0   0   0   0   0   0   0   0  80 156 107 253 253 205  11   0  43 154\n",
            "    0   0   0   0   0   0   0   0   0   0]\n",
            " [  0   0   0   0   0   0   0   0   0  14   1 154 253  90   0   0   0   0\n",
            "    0   0   0   0   0   0   0   0   0   0]\n",
            " [  0   0   0   0   0   0   0   0   0   0   0 139 253 190   2   0   0   0\n",
            "    0   0   0   0   0   0   0   0   0   0]\n",
            " [  0   0   0   0   0   0   0   0   0   0   0  11 190 253  70   0   0   0\n",
            "    0   0   0   0   0   0   0   0   0   0]\n",
            " [  0   0   0   0   0   0   0   0   0   0   0   0  35 241 225 160 108   1\n",
            "    0   0   0   0   0   0   0   0   0   0]\n",
            " [  0   0   0   0   0   0   0   0   0   0   0   0   0  81 240 253 253 119\n",
            "   25   0   0   0   0   0   0   0   0   0]\n",
            " [  0   0   0   0   0   0   0   0   0   0   0   0   0   0  45 186 253 253\n",
            "  150  27   0   0   0   0   0   0   0   0]\n",
            " [  0   0   0   0   0   0   0   0   0   0   0   0   0   0   0  16  93 252\n",
            "  253 187   0   0   0   0   0   0   0   0]\n",
            " [  0   0   0   0   0   0   0   0   0   0   0   0   0   0   0   0   0 249\n",
            "  253 249  64   0   0   0   0   0   0   0]\n",
            " [  0   0   0   0   0   0   0   0   0   0   0   0   0   0  46 130 183 253\n",
            "  253 207   2   0   0   0   0   0   0   0]\n",
            " [  0   0   0   0   0   0   0   0   0   0   0   0  39 148 229 253 253 253\n",
            "  250 182   0   0   0   0   0   0   0   0]\n",
            " [  0   0   0   0   0   0   0   0   0   0  24 114 221 253 253 253 253 201\n",
            "   78   0   0   0   0   0   0   0   0   0]\n",
            " [  0   0   0   0   0   0   0   0  23  66 213 253 253 253 253 198  81   2\n",
            "    0   0   0   0   0   0   0   0   0   0]\n",
            " [  0   0   0   0   0   0  18 171 219 253 253 253 253 195  80   9   0   0\n",
            "    0   0   0   0   0   0   0   0   0   0]\n",
            " [  0   0   0   0  55 172 226 253 253 253 253 244 133  11   0   0   0   0\n",
            "    0   0   0   0   0   0   0   0   0   0]\n",
            " [  0   0   0   0 136 253 253 253 212 135 132  16   0   0   0   0   0   0\n",
            "    0   0   0   0   0   0   0   0   0   0]\n",
            " [  0   0   0   0   0   0   0   0   0   0   0   0   0   0   0   0   0   0\n",
            "    0   0   0   0   0   0   0   0   0   0]\n",
            " [  0   0   0   0   0   0   0   0   0   0   0   0   0   0   0   0   0   0\n",
            "    0   0   0   0   0   0   0   0   0   0]\n",
            " [  0   0   0   0   0   0   0   0   0   0   0   0   0   0   0   0   0   0\n",
            "    0   0   0   0   0   0   0   0   0   0]]\n"
          ],
          "name": "stdout"
        }
      ]
    },
    {
      "cell_type": "code",
      "metadata": {
        "id": "pRvTcjrwyMAB",
        "colab": {
          "base_uri": "https://localhost:8080/",
          "height": 1000
        },
        "outputId": "dacaf3f7-9f6f-44e4-9b90-ffe7d8ac2359"
      },
      "source": [
        "for i in range(4):\n",
        "  print(raw_train_y[i])\n",
        "  plt.imshow(raw_train_x[i], cmap=plt.cm.binary)\n",
        "  plt.show()\n"
      ],
      "execution_count": null,
      "outputs": [
        {
          "output_type": "stream",
          "text": [
            "5\n"
          ],
          "name": "stdout"
        },
        {
          "output_type": "display_data",
          "data": {
            "image/png": "[encoded data removed]",
            "text/plain": [
              "<Figure size 432x288 with 1 Axes>"
            ]
          },
          "metadata": {
            "tags": []
          }
        },
        {
          "output_type": "stream",
          "text": [
            "0\n"
          ],
          "name": "stdout"
        },
        {
          "output_type": "display_data",
          "data": {
            "image/png": "[encoded data removed]",
            "text/plain": [
              "<Figure size 432x288 with 1 Axes>"
            ]
          },
          "metadata": {
            "tags": []
          }
        },
        {
          "output_type": "stream",
          "text": [
            "4\n"
          ],
          "name": "stdout"
        },
        {
          "output_type": "display_data",
          "data": {
            "image/png": "[encoded data removed]",
            "text/plain": [
              "<Figure size 432x288 with 1 Axes>"
            ]
          },
          "metadata": {
            "tags": []
          }
        },
        {
          "output_type": "stream",
          "text": [
            "1\n"
          ],
          "name": "stdout"
        },
        {
          "output_type": "display_data",
          "data": {
            "image/png": "[encoded data removed]",
            "text/plain": [
              "<Figure size 432x288 with 1 Axes>"
            ]
          },
          "metadata": {
            "tags": []
          }
        }
      ]
    },
    {
      "cell_type": "markdown",
      "metadata": {
        "id": "V6AV1QI6mewE"
      },
      "source": [
        "## Normalization"
      ]
    },
    {
      "cell_type": "code",
      "metadata": {
        "id": "nBZsXbAjmNiC",
        "colab": {
          "base_uri": "https://localhost:8080/",
          "height": 91
        },
        "outputId": "0cc74ca2-521e-43c3-aefe-18680e8c432c"
      },
      "source": [
        "print(np.max(raw_train_x[:,]))\n",
        "print(np.max(raw_test_x[:,]))\n",
        "\n",
        "train_x = raw_train_x/255\n",
        "test_x = raw_test_x/255\n",
        "\n",
        "train_y = raw_train_y\n",
        "test_y = raw_test_y\n",
        "\n",
        "print(np.max(train_x[:,]))\n",
        "print(np.max(test_x[:,]))\n"
      ],
      "execution_count": null,
      "outputs": [
        {
          "output_type": "stream",
          "text": [
            "255\n",
            "255\n",
            "1.0\n",
            "1.0\n"
          ],
          "name": "stdout"
        }
      ]
    },
    {
      "cell_type": "code",
      "metadata": {
        "id": "odXBeGVUSCZX",
        "colab": {
          "base_uri": "https://localhost:8080/",
          "height": 36
        },
        "outputId": "dfbf082f-bb8b-4c3c-d4d2-c6b29e8331e5"
      },
      "source": [
        "print(train_x.shape)"
      ],
      "execution_count": null,
      "outputs": [
        {
          "output_type": "stream",
          "text": [
            "(60000, 28, 28)\n"
          ],
          "name": "stdout"
        }
      ]
    },
    {
      "cell_type": "code",
      "metadata": {
        "id": "_38v16ommum-",
        "colab": {
          "base_uri": "https://localhost:8080/",
          "height": 54
        },
        "outputId": "86d4e5e5-307c-4ed6-b98b-200eb8589519"
      },
      "source": [
        "train_x = train_x.reshape((60000, 28*28))\n",
        "test_x = test_x.reshape((60000, 28*28))\n",
        "\n",
        "print(train_x.shape)\n",
        "print(test_x.shape)"
      ],
      "execution_count": null,
      "outputs": [
        {
          "output_type": "stream",
          "text": [
            "(60000, 784)\n",
            "(10000, 784)\n"
          ],
          "name": "stdout"
        }
      ]
    },
    {
      "cell_type": "markdown",
      "metadata": {
        "id": "PeG7foCfu1PF"
      },
      "source": [
        "# 모델 준비"
      ]
    },
    {
      "cell_type": "code",
      "metadata": {
        "id": "X08W3R4_ldKc",
        "colab": {
          "base_uri": "https://localhost:8080/",
          "height": 353
        },
        "outputId": "89e057e3-cf71-46dc-8cc2-ec47b30b36aa"
      },
      "source": [
        "model = keras.Sequential()\n",
        "# model.add(Dense(10, activation='relu', input_shape=(4,)))\n",
        "model.add(Dense(10, activation='relu', input_shape=(28*28,)))\n",
        "model.add(Dense(10, activation='relu'))\n",
        "# model.add(Dense(3, activation='softmax'))\n",
        "model.add(Dense(10, activation='softmax'))\n",
        "\n",
        "model.compile(optimizer=\"adam\", loss=\"sparse_categorical_crossentropy\", metrics=[\"accuracy\"])\n",
        "model.summary()"
      ],
      "execution_count": null,
      "outputs": [
        {
          "output_type": "stream",
          "text": [
            "WARNING:tensorflow:From /tensorflow-1.15.2/python3.6/tensorflow_core/python/ops/resource_variable_ops.py:1630: calling BaseResourceVariable.__init__ (from tensorflow.python.ops.resource_variable_ops) with constraint is deprecated and will be removed in a future version.\n",
            "Instructions for updating:\n",
            "If using Keras pass *_constraint arguments to layers.\n",
            "Model: \"sequential\"\n",
            "_________________________________________________________________\n",
            "Layer (type)                 Output Shape              Param #   \n",
            "=================================================================\n",
            "dense (Dense)                (None, 10)                7850      \n",
            "_________________________________________________________________\n",
            "dense_1 (Dense)              (None, 10)                110       \n",
            "_________________________________________________________________\n",
            "dense_2 (Dense)              (None, 10)                110       \n",
            "=================================================================\n",
            "Total params: 8,070\n",
            "Trainable params: 8,070\n",
            "Non-trainable params: 0\n",
            "_________________________________________________________________\n"
          ],
          "name": "stdout"
        }
      ]
    },
    {
      "cell_type": "code",
      "metadata": {
        "id": "igZrWG5nu7FK",
        "colab": {
          "base_uri": "https://localhost:8080/",
          "height": 240
        },
        "outputId": "67fd79f4-ca5c-4def-b1dd-9875cbae9d39"
      },
      "source": [
        "model.fit(train_x, train_y, epochs=5, verbose=1, batch_size=128)"
      ],
      "execution_count": null,
      "outputs": [
        {
          "output_type": "stream",
          "text": [
            "Train on 60000 samples\n",
            "Epoch 1/5\n",
            "60000/60000 [==============================] - 1s 19us/sample - loss: 0.2464 - acc: 0.9289\n",
            "Epoch 2/5\n",
            "60000/60000 [==============================] - 1s 19us/sample - loss: 0.2363 - acc: 0.9316\n",
            "Epoch 3/5\n",
            "60000/60000 [==============================] - 1s 20us/sample - loss: 0.2297 - acc: 0.9344\n",
            "Epoch 4/5\n",
            "60000/60000 [==============================] - 1s 19us/sample - loss: 0.2226 - acc: 0.9360\n",
            "Epoch 5/5\n",
            "60000/60000 [==============================] - 1s 19us/sample - loss: 0.2158 - acc: 0.9379\n"
          ],
          "name": "stdout"
        },
        {
          "output_type": "execute_result",
          "data": {
            "text/plain": [
              "<tensorflow.python.keras.callbacks.History at 0x7f35e60ebd30>"
            ]
          },
          "metadata": {
            "tags": []
          },
          "execution_count": 18
        }
      ]
    },
    {
      "cell_type": "code",
      "metadata": {
        "id": "CiIqivhwu9Vi",
        "colab": {
          "base_uri": "https://localhost:8080/",
          "height": 73
        },
        "outputId": "822554bd-f580-4ce3-da6e-6277d64c9ad5"
      },
      "source": [
        "loss, acc = model.evaluate(test_x, test_y)\n",
        "print(\"loss=\",loss)\n",
        "print(\"acc=\",acc)"
      ],
      "execution_count": null,
      "outputs": [
        {
          "output_type": "stream",
          "text": [
            "10000/10000 [==============================] - 0s 27us/sample - loss: 0.2589 - acc: 0.9236\n",
            "loss= 0.25886706688553096\n",
            "acc= 0.9236\n"
          ],
          "name": "stdout"
        }
      ]
    },
    {
      "cell_type": "code",
      "metadata": {
        "id": "8GCmG_ZVurfb",
        "colab": {
          "base_uri": "https://localhost:8080/",
          "height": 1000
        },
        "outputId": "f91540c4-e15b-471c-d7c5-82c0ee30d0aa"
      },
      "source": [
        "y_ = model.predict(test_x)\n",
        "print(y_)\n",
        "predicted = np.argmax(y_, axis=1)\n",
        "print(predicted)\n",
        "\n",
        "for i in range(4):\n",
        "  print(predicted[i])\n",
        "  plt.imshow(raw_test_x[i], cmap=plt.cm.binary)\n",
        "  plt.show()"
      ],
      "execution_count": null,
      "outputs": [
        {
          "output_type": "stream",
          "text": [
            "[[4.5903499e-07 9.8230987e-07 1.2600233e-04 ... 9.9884260e-01\n",
            "  1.1186424e-07 3.2265886e-04]\n",
            " [1.6758602e-05 3.8688796e-07 9.9646842e-01 ... 8.2542861e-09\n",
            "  2.8139252e-06 4.7780413e-10]\n",
            " [5.9287263e-06 9.6491021e-01 2.4216540e-02 ... 4.4716327e-03\n",
            "  3.8485185e-03 4.3035088e-05]\n",
            " ...\n",
            " [7.4655206e-09 1.9598296e-07 4.7546102e-05 ... 3.1681039e-04\n",
            "  3.3057874e-04 3.0883655e-03]\n",
            " [4.9102542e-05 3.1203899e-06 1.0115113e-04 ... 8.9510127e-07\n",
            "  2.8966980e-03 1.8058785e-05]\n",
            " [1.2401956e-06 1.1998927e-15 8.8047511e-07 ... 5.1103907e-14\n",
            "  1.4971915e-08 8.7089841e-10]]\n",
            "[7 2 1 ... 4 5 6]\n",
            "7\n"
          ],
          "name": "stdout"
        },
        {
          "output_type": "display_data",
          "data": {
            "image/png": "[encoded data removed]",
            "text/plain": [
              "<Figure size 432x288 with 1 Axes>"
            ]
          },
          "metadata": {
            "tags": [],
            "needs_background": "light"
          }
        },
        {
          "output_type": "stream",
          "text": [
            "2\n"
          ],
          "name": "stdout"
        },
        {
          "output_type": "display_data",
          "data": {
            "image/png": "[encoded data removed]",
            "text/plain": [
              "<Figure size 432x288 with 1 Axes>"
            ]
          },
          "metadata": {
            "tags": [],
            "needs_background": "light"
          }
        },
        {
          "output_type": "stream",
          "text": [
            "1\n"
          ],
          "name": "stdout"
        },
        {
          "output_type": "display_data",
          "data": {
            "image/png": "[encoded data removed]",
            "text/plain": [
              "<Figure size 432x288 with 1 Axes>"
            ]
          },
          "metadata": {
            "tags": [],
            "needs_background": "light"
          }
        },
        {
          "output_type": "stream",
          "text": [
            "0\n"
          ],
          "name": "stdout"
        },
        {
          "output_type": "display_data",
          "data": {
            "image/png": "[encoded data removed]",
            "text/plain": [
              "<Figure size 432x288 with 1 Axes>"
            ]
          },
          "metadata": {
            "tags": [],
            "needs_background": "light"
          }
        }
      ]
    },
    {
      "cell_type": "markdown",
      "metadata": {
        "id": "c503DSvxvOU5"
      },
      "source": [
        "# 한눈에 모아보면"
      ]
    },
    {
      "cell_type": "code",
      "metadata": {
        "id": "nSNPBq4kvR9u"
      },
      "source": [
        "import numpy as np\n",
        "import matplotlib.pyplot as plt\n",
        "\n",
        "import tensorflow as tf\n",
        "from tensorflow import keras\n",
        "from tensorflow.keras import optimizers\n",
        "from tensorflow.keras.layers import Dense\n",
        "\n",
        "import time"
      ],
      "execution_count": null,
      "outputs": []
    },
    {
      "cell_type": "code",
      "metadata": {
        "id": "AeBqmrvcwXDE"
      },
      "source": [
        "(raw_train_x, raw_train_y), (raw_test_x, raw_test_y) = tf.keras.datasets.mnist.load_data()\n",
        "\n",
        "train_x = raw_train_x/255\n",
        "test_x = raw_test_x/255\n",
        "\n",
        "train_y = raw_train_y\n",
        "test_y = raw_test_y\n",
        "\n",
        "train_x = train_x.reshape((60000, 28*28))\n",
        "test_x = test_x.reshape((10000, 28*28))\n"
      ],
      "execution_count": null,
      "outputs": []
    },
    {
      "cell_type": "code",
      "metadata": {
        "id": "tksmYhZswCac",
        "colab": {
          "base_uri": "https://localhost:8080/",
          "height": 501
        },
        "outputId": "ec203a20-16bb-4bad-8811-cb5399be81e1"
      },
      "source": [
        "model = keras.Sequential()\n",
        "model.add(Dense(10, activation='relu', input_shape=(28*28,)))\n",
        "model.add(Dense(10, activation='relu'))\n",
        "model.add(Dense(10, activation='softmax'))\n",
        "\n",
        "model.compile(optimizer=\"adam\", loss=\"sparse_categorical_crossentropy\", metrics=[\"accuracy\"])\n",
        "model.summary()\n",
        "\n",
        "\n",
        "model.fit(train_x, train_y, epochs=5, verbose=1, batch_size=128)\n",
        "\n",
        "\n",
        "loss, acc = model.evaluate(test_x, test_y)\n",
        "print(\"loss=\",loss)\n",
        "print(\"acc=\",acc)\n",
        "\n",
        "y_ = model.predict(test_x)\n",
        "predicted = np.argmax(y_, axis=1)\n",
        "\n",
        "print(predicted)"
      ],
      "execution_count": null,
      "outputs": [
        {
          "output_type": "stream",
          "text": [
            "Model: \"sequential_1\"\n",
            "_________________________________________________________________\n",
            "Layer (type)                 Output Shape              Param #   \n",
            "=================================================================\n",
            "dense_3 (Dense)              (None, 10)                7850      \n",
            "_________________________________________________________________\n",
            "dense_4 (Dense)              (None, 10)                110       \n",
            "_________________________________________________________________\n",
            "dense_5 (Dense)              (None, 10)                110       \n",
            "=================================================================\n",
            "Total params: 8,070\n",
            "Trainable params: 8,070\n",
            "Non-trainable params: 0\n",
            "_________________________________________________________________\n",
            "Epoch 1/5\n",
            "60000/60000 [==============================] - 1s 19us/sample - loss: 0.9044 - acc: 0.7136\n",
            "Epoch 2/5\n",
            "60000/60000 [==============================] - 1s 21us/sample - loss: 0.3927 - acc: 0.8880\n",
            "Epoch 3/5\n",
            "60000/60000 [==============================] - 1s 21us/sample - loss: 0.3307 - acc: 0.9058\n",
            "Epoch 4/5\n",
            "60000/60000 [==============================] - 1s 21us/sample - loss: 0.2990 - acc: 0.9147\n",
            "Epoch 5/5\n",
            "60000/60000 [==============================] - 1s 20us/sample - loss: 0.2777 - acc: 0.9197\n",
            "10000/10000 [==============================] - 0s 28us/sample - loss: 0.2660 - acc: 0.9234\n",
            "loss= 0.26598617191910745\n",
            "acc= 0.9234\n",
            "[7 2 1 ... 4 5 6]\n"
          ],
          "name": "stdout"
        }
      ]
    },
    {
      "cell_type": "markdown",
      "metadata": {
        "id": "63C6TPhfxCHQ"
      },
      "source": [
        "# Flatten 레이어 사용\n",
        "\n",
        "(None, 28, 28) shape의 train_x를 그대로 사용.\n",
        "\n",
        "모델의 처음에 Flatten() 레이어를 두어, 입력 모양을 변경한다.\n"
      ]
    },
    {
      "cell_type": "code",
      "metadata": {
        "id": "G8M2QsSUxGZn"
      },
      "source": [
        "import numpy as np\n",
        "import matplotlib.pyplot as plt\n",
        "\n",
        "import tensorflow as tf\n",
        "from tensorflow import keras\n",
        "from tensorflow.keras import optimizers\n",
        "from tensorflow.keras.layers import Dense, Input, Flatten\n",
        "\n",
        "import time"
      ],
      "execution_count": null,
      "outputs": []
    },
    {
      "cell_type": "code",
      "metadata": {
        "id": "98Ly9UIFxIjO"
      },
      "source": [
        "(raw_train_x, raw_train_y), (raw_test_x, raw_test_y) = tf.keras.datasets.mnist.load_data()\n",
        "\n",
        "train_x = raw_train_x/255\n",
        "test_x = raw_test_x/255\n",
        "\n",
        "train_y = raw_train_y\n",
        "test_y = raw_test_y\n",
        "\n",
        "\n",
        "# train_x = train_x.reshape((60000, 28*28)) # COMMENT OUT\n",
        "# test_x = test_x.reshape((10000, 28*28)) # COMMENT OUT"
      ],
      "execution_count": null,
      "outputs": []
    },
    {
      "cell_type": "code",
      "metadata": {
        "id": "gZ-hK0S5xIl7",
        "colab": {
          "base_uri": "https://localhost:8080/",
          "height": 592
        },
        "outputId": "58f3c257-918d-4207-a3d7-dbb8e4997775"
      },
      "source": [
        "\n",
        "model = keras.Sequential()\n",
        "model.add(Input((28,28)))  # ADD\n",
        "model.add(Flatten())       # ADD\n",
        "# model.add(Dense(10, activation='relu', input_shape=(28*28,)))\n",
        "model.add(Dense(10, activation='relu'))\n",
        "model.add(Dense(10, activation='relu'))\n",
        "model.add(Dense(10, activation='softmax'))\n",
        "\n",
        "model.compile(optimizer=\"adam\", loss=\"sparse_categorical_crossentropy\", metrics=[\"accuracy\"])\n",
        "model.summary()\n",
        "\n",
        "\n",
        "model.fit(train_x, train_y, epochs=5, verbose=1, batch_size=128)\n",
        "\n",
        "\n",
        "loss, acc = model.evaluate(test_x, test_y)\n",
        "print(\"loss=\",loss)\n",
        "print(\"acc=\",acc)\n",
        "\n",
        "y_ = model.predict(test_x)\n",
        "predicted = np.argmax(y_, axis=1)\n",
        "\n",
        "print(predicted)\n"
      ],
      "execution_count": null,
      "outputs": [
        {
          "output_type": "stream",
          "text": [
            "Model: \"sequential_3\"\n",
            "_________________________________________________________________\n",
            "Layer (type)                 Output Shape              Param #   \n",
            "=================================================================\n",
            "flatten (Flatten)            (None, 784)               0         \n",
            "_________________________________________________________________\n",
            "dense_3 (Dense)              (None, 10)                7850      \n",
            "_________________________________________________________________\n",
            "dense_4 (Dense)              (None, 10)                110       \n",
            "_________________________________________________________________\n",
            "dense_5 (Dense)              (None, 10)                110       \n",
            "=================================================================\n",
            "Total params: 8,070\n",
            "Trainable params: 8,070\n",
            "Non-trainable params: 0\n",
            "_________________________________________________________________\n",
            "Train on 60000 samples\n",
            "Epoch 1/5\n",
            "60000/60000 [==============================] - 1s 20us/sample - loss: 0.8637 - acc: 0.7340\n",
            "Epoch 2/5\n",
            "60000/60000 [==============================] - 1s 19us/sample - loss: 0.4008 - acc: 0.8817\n",
            "Epoch 3/5\n",
            "60000/60000 [==============================] - 1s 19us/sample - loss: 0.3410 - acc: 0.9008\n",
            "Epoch 4/5\n",
            "60000/60000 [==============================] - 1s 19us/sample - loss: 0.3055 - acc: 0.9118\n",
            "Epoch 5/5\n",
            "60000/60000 [==============================] - 1s 18us/sample - loss: 0.2842 - acc: 0.9179\n",
            "10000/10000 [==============================] - 0s 29us/sample - loss: 0.2766 - acc: 0.9180\n",
            "loss= 0.2766214109361172\n",
            "acc= 0.918\n",
            "[7 2 1 ... 4 5 6]\n"
          ],
          "name": "stdout"
        }
      ]
    },
    {
      "cell_type": "markdown",
      "metadata": {
        "id": "CXuXR4tSBRPu"
      },
      "source": [
        "# DNN classification Template"
      ]
    },
    {
      "cell_type": "code",
      "metadata": {
        "id": "QfdEDwzKBUnT",
        "colab": {
          "base_uri": "https://localhost:8080/",
          "height": 535
        },
        "outputId": "242bd924-9c95-4b9d-f746-bb2a034b8a59"
      },
      "source": [
        "import numpy as np\n",
        "import matplotlib.pyplot as plt\n",
        "\n",
        "import tensorflow as tf\n",
        "from tensorflow import keras\n",
        "from tensorflow.keras import optimizers\n",
        "from tensorflow.keras.layers import Dense\n",
        "\n",
        "import time\n",
        "\n",
        "\n",
        "(train_x, train_y), (test_x, test_y) = tf.keras.datasets.mnist.load_data()\n",
        "\n",
        "train_x = train_x/255\n",
        "test_x = test_x/255\n",
        "\n",
        "\n",
        "model = keras.Sequential()\n",
        "model.add(Flatten(input_shape=(28, 28)))\n",
        "model.add(Dense(10, activation='relu'))\n",
        "model.add(Dense(10, activation='relu'))\n",
        "model.add(Dense(10, activation='softmax'))\n",
        "\n",
        "model.compile(optimizer=\"adam\", loss=\"sparse_categorical_crossentropy\", metrics=[\"accuracy\"])\n",
        "model.summary()\n",
        "\n",
        "\n",
        "model.fit(train_x, train_y, epochs=5, verbose=1, batch_size=128)\n",
        "\n",
        "\n",
        "loss, acc = model.evaluate(test_x, test_y)\n",
        "print(\"loss=\",loss)\n",
        "print(\"acc=\",acc)\n",
        "\n",
        "y_ = model.predict(test_x)\n",
        "predicted = np.argmax(y_, axis=1)\n",
        "\n",
        "print(predicted)\n"
      ],
      "execution_count": null,
      "outputs": [
        {
          "output_type": "stream",
          "text": [
            "Model: \"sequential_10\"\n",
            "_________________________________________________________________\n",
            "Layer (type)                 Output Shape              Param #   \n",
            "=================================================================\n",
            "flatten_8 (Flatten)          (None, 784)               0         \n",
            "_________________________________________________________________\n",
            "dense_30 (Dense)             (None, 10)                7850      \n",
            "_________________________________________________________________\n",
            "dense_31 (Dense)             (None, 10)                110       \n",
            "_________________________________________________________________\n",
            "dense_32 (Dense)             (None, 10)                110       \n",
            "=================================================================\n",
            "Total params: 8,070\n",
            "Trainable params: 8,070\n",
            "Non-trainable params: 0\n",
            "_________________________________________________________________\n",
            "Epoch 1/5\n",
            "60000/60000 [==============================] - 1s 22us/sample - loss: 1.0497 - acc: 0.6647\n",
            "Epoch 2/5\n",
            "60000/60000 [==============================] - 1s 21us/sample - loss: 0.4016 - acc: 0.8855\n",
            "Epoch 3/5\n",
            "60000/60000 [==============================] - 1s 19us/sample - loss: 0.3380 - acc: 0.9043\n",
            "Epoch 4/5\n",
            "60000/60000 [==============================] - 1s 20us/sample - loss: 0.3071 - acc: 0.9128\n",
            "Epoch 5/5\n",
            "60000/60000 [==============================] - 1s 21us/sample - loss: 0.2841 - acc: 0.9190\n",
            "10000/10000 [==============================] - 0s 38us/sample - loss: 0.2782 - acc: 0.9193\n",
            "loss= 0.2782026445388794\n",
            "acc= 0.9193\n",
            "[7 2 1 ... 4 5 6]\n"
          ],
          "name": "stdout"
        }
      ]
    },
    {
      "cell_type": "markdown",
      "metadata": {
        "id": "Ferd_0Cx93Fb"
      },
      "source": [
        "# Normalization"
      ]
    },
    {
      "cell_type": "markdown",
      "metadata": {
        "id": "qfBfbJqOyIkL"
      },
      "source": [
        "## Normalization을 하지 않으면\n",
        "\n",
        "위에서는 0 ~ 255의 값을 0 ~ 1로 normalization하여 학습했다.\n",
        "\n",
        "이 과정을 생략하고 그대로 실행한다."
      ]
    },
    {
      "cell_type": "code",
      "metadata": {
        "id": "-0BQDjm2yYpH"
      },
      "source": [
        "(train_x, train_y), (test_x, test_y) = tf.keras.datasets.mnist.load_data()\n",
        "\n",
        "# train_x = train_x/255\n",
        "# test_x = test_x/255\n",
        "\n"
      ],
      "execution_count": null,
      "outputs": []
    },
    {
      "cell_type": "code",
      "metadata": {
        "id": "fYlMkT8axIoi",
        "colab": {
          "base_uri": "https://localhost:8080/",
          "height": 535
        },
        "outputId": "1f0ff1a3-3b47-4cee-fc5d-f10f0b46b573"
      },
      "source": [
        "model = keras.Sequential()\n",
        "model.add(Flatten(input_shape=(28, 28)))\n",
        "model.add(Dense(10, activation='relu'))\n",
        "model.add(Dense(10, activation='relu'))\n",
        "model.add(Dense(10, activation='softmax'))\n",
        "\n",
        "model.compile(optimizer=\"adam\", loss=\"sparse_categorical_crossentropy\", metrics=[\"accuracy\"])\n",
        "model.summary()\n",
        "\n",
        "\n",
        "model.fit(train_x, train_y, epochs=5, verbose=1, batch_size=128)\n",
        "\n",
        "\n",
        "loss, acc = model.evaluate(test_x, test_y)\n",
        "print(\"loss=\",loss)\n",
        "print(\"acc=\",acc)\n",
        "\n",
        "y_ = model.predict(test_x)\n",
        "predicted = np.argmax(y_, axis=1)\n",
        "\n",
        "print(predicted)"
      ],
      "execution_count": null,
      "outputs": [
        {
          "output_type": "stream",
          "text": [
            "Model: \"sequential_3\"\n",
            "_________________________________________________________________\n",
            "Layer (type)                 Output Shape              Param #   \n",
            "=================================================================\n",
            "flatten_1 (Flatten)          (None, 784)               0         \n",
            "_________________________________________________________________\n",
            "dense_9 (Dense)              (None, 10)                7850      \n",
            "_________________________________________________________________\n",
            "dense_10 (Dense)             (None, 10)                110       \n",
            "_________________________________________________________________\n",
            "dense_11 (Dense)             (None, 10)                110       \n",
            "=================================================================\n",
            "Total params: 8,070\n",
            "Trainable params: 8,070\n",
            "Non-trainable params: 0\n",
            "_________________________________________________________________\n",
            "Epoch 1/5\n",
            "60000/60000 [==============================] - 1s 18us/sample - loss: 2.4654 - acc: 0.1538\n",
            "Epoch 2/5\n",
            "60000/60000 [==============================] - 1s 19us/sample - loss: 1.9504 - acc: 0.2509\n",
            "Epoch 3/5\n",
            "60000/60000 [==============================] - 1s 17us/sample - loss: 1.7553 - acc: 0.3037\n",
            "Epoch 4/5\n",
            "60000/60000 [==============================] - 1s 18us/sample - loss: 1.6404 - acc: 0.3354\n",
            "Epoch 5/5\n",
            "60000/60000 [==============================] - 1s 18us/sample - loss: 1.5597 - acc: 0.3471\n",
            "10000/10000 [==============================] - 0s 26us/sample - loss: 1.5352 - acc: 0.3417\n",
            "loss= 1.5351685056686402\n",
            "acc= 0.3417\n",
            "[9 6 1 ... 9 2 6]\n"
          ],
          "name": "stdout"
        }
      ]
    },
    {
      "cell_type": "markdown",
      "metadata": {
        "id": "T_H2aV8qy0Im"
      },
      "source": [
        "학습이 진행되지만 normalization했을 때와 비교하면 더디게 진행된다.\n",
        "\n",
        "아래는 0~1로 normalization을 했을 때\n",
        "```\n",
        "Epoch 1/5\n",
        "60000/60000 [==============================] - 1s 20us/sample - loss: 0.8862 - acc: 0.7278\n",
        "Epoch 2/5\n",
        "60000/60000 [==============================] - 1s 20us/sample - loss: 0.3659 - acc: 0.8950\n",
        "Epoch 3/5\n",
        "60000/60000 [==============================] - 1s 20us/sample - loss: 0.3164 - acc: 0.9100\n",
        "Epoch 4/5\n",
        "60000/60000 [==============================] - 1s 20us/sample - loss: 0.2904 - acc: 0.9171\n",
        "Epoch 5/5\n",
        "60000/60000 [==============================] - 1s 20us/sample - loss: 0.2724 - acc: 0.9225\n",
        "10000/10000 [==============================] - 0s 27us/sample - loss: 0.2613 - acc: 0.9265\n",
        "loss= 0.26132496373653413\n",
        "acc= 0.9265\n",
        "```"
      ]
    },
    {
      "cell_type": "markdown",
      "metadata": {
        "id": "ki5TbWWT-DY7"
      },
      "source": [
        "## -1 ~ 1로 Normalization 하면"
      ]
    },
    {
      "cell_type": "code",
      "metadata": {
        "id": "XlldGHxzygP8"
      },
      "source": [
        "(train_x, train_y), (test_x, test_y) = tf.keras.datasets.mnist.load_data()\n",
        "\n",
        "# train_x = train_x/255\n",
        "# test_x = test_x/255\n",
        "train_x = train_x/127.5 - 1\n",
        "test_x = test_x/127.5 - 1\n"
      ],
      "execution_count": null,
      "outputs": []
    },
    {
      "cell_type": "code",
      "metadata": {
        "id": "0Evje8DO-MmC",
        "colab": {
          "base_uri": "https://localhost:8080/",
          "height": 535
        },
        "outputId": "a8663ac9-8669-4948-d71b-8d23c6855fdd"
      },
      "source": [
        "model = keras.Sequential()\n",
        "model.add(Flatten(input_shape=(28, 28)))\n",
        "model.add(Dense(10, activation='relu'))\n",
        "model.add(Dense(10, activation='relu'))\n",
        "model.add(Dense(10, activation='softmax'))\n",
        "\n",
        "model.compile(optimizer=\"adam\", loss=\"sparse_categorical_crossentropy\", metrics=[\"accuracy\"])\n",
        "model.summary()\n",
        "\n",
        "\n",
        "model.fit(train_x, train_y, epochs=5, verbose=1, batch_size=128)\n",
        "\n",
        "\n",
        "loss, acc = model.evaluate(test_x, test_y)\n",
        "print(\"loss=\",loss)\n",
        "print(\"acc=\",acc)\n",
        "\n",
        "y_ = model.predict(test_x)\n",
        "predicted = np.argmax(y_, axis=1)\n",
        "\n",
        "print(predicted)"
      ],
      "execution_count": null,
      "outputs": [
        {
          "output_type": "stream",
          "text": [
            "Model: \"sequential_4\"\n",
            "_________________________________________________________________\n",
            "Layer (type)                 Output Shape              Param #   \n",
            "=================================================================\n",
            "flatten_2 (Flatten)          (None, 784)               0         \n",
            "_________________________________________________________________\n",
            "dense_12 (Dense)             (None, 10)                7850      \n",
            "_________________________________________________________________\n",
            "dense_13 (Dense)             (None, 10)                110       \n",
            "_________________________________________________________________\n",
            "dense_14 (Dense)             (None, 10)                110       \n",
            "=================================================================\n",
            "Total params: 8,070\n",
            "Trainable params: 8,070\n",
            "Non-trainable params: 0\n",
            "_________________________________________________________________\n",
            "Epoch 1/5\n",
            "60000/60000 [==============================] - 1s 21us/sample - loss: 1.3357 - acc: 0.5336\n",
            "Epoch 2/5\n",
            "60000/60000 [==============================] - 1s 19us/sample - loss: 0.7027 - acc: 0.7702\n",
            "Epoch 3/5\n",
            "60000/60000 [==============================] - 1s 19us/sample - loss: 0.6038 - acc: 0.8077\n",
            "Epoch 4/5\n",
            "60000/60000 [==============================] - 1s 18us/sample - loss: 0.5583 - acc: 0.8249\n",
            "Epoch 5/5\n",
            "60000/60000 [==============================] - 1s 18us/sample - loss: 0.5221 - acc: 0.8389\n",
            "10000/10000 [==============================] - 0s 29us/sample - loss: 0.4942 - acc: 0.8463\n",
            "loss= 0.49422486678361893\n",
            "acc= 0.8463\n",
            "[7 2 1 ... 4 5 6]\n"
          ],
          "name": "stdout"
        }
      ]
    },
    {
      "cell_type": "markdown",
      "metadata": {
        "id": "kacaLSWw_DSE"
      },
      "source": [
        "학습이 진행되지만 normalization했을 때와 비교하면 더디게 진행된다.\n",
        "\n",
        "아래는 0~1로 normalization을 했을 때\n",
        "```\n",
        "Epoch 1/5\n",
        "60000/60000 [==============================] - 1s 20us/sample - loss: 0.8862 - acc: 0.7278\n",
        "Epoch 2/5\n",
        "60000/60000 [==============================] - 1s 20us/sample - loss: 0.3659 - acc: 0.8950\n",
        "Epoch 3/5\n",
        "60000/60000 [==============================] - 1s 20us/sample - loss: 0.3164 - acc: 0.9100\n",
        "Epoch 4/5\n",
        "60000/60000 [==============================] - 1s 20us/sample - loss: 0.2904 - acc: 0.9171\n",
        "Epoch 5/5\n",
        "60000/60000 [==============================] - 1s 20us/sample - loss: 0.2724 - acc: 0.9225\n",
        "10000/10000 [==============================] - 0s 27us/sample - loss: 0.2613 - acc: 0.9265\n",
        "loss= 0.26132496373653413\n",
        "acc= 0.9265\n",
        "```"
      ]
    },
    {
      "cell_type": "markdown",
      "metadata": {
        "id": "KZyRDXoX_Stx"
      },
      "source": [
        "## -255 ~ 255로 하면"
      ]
    },
    {
      "cell_type": "code",
      "metadata": {
        "id": "lVcxZIVr-mJd"
      },
      "source": [
        "(train_x, train_y), (test_x, test_y) = tf.keras.datasets.mnist.load_data()\n",
        "\n",
        "# train_x = train_x/255\n",
        "# test_x = test_x/255\n",
        "train_x = train_x*2 - 255\n",
        "test_x = test_x*2 - 255"
      ],
      "execution_count": null,
      "outputs": []
    },
    {
      "cell_type": "code",
      "metadata": {
        "id": "PT09nVdp_ZFX",
        "colab": {
          "base_uri": "https://localhost:8080/",
          "height": 535
        },
        "outputId": "cf657248-597a-4670-fbde-99017558e389"
      },
      "source": [
        "model = keras.Sequential()\n",
        "model.add(Flatten(input_shape=(28, 28)))\n",
        "model.add(Dense(10, activation='relu'))\n",
        "model.add(Dense(10, activation='relu'))\n",
        "model.add(Dense(10, activation='softmax'))\n",
        "\n",
        "model.compile(optimizer=\"adam\", loss=\"sparse_categorical_crossentropy\", metrics=[\"accuracy\"])\n",
        "model.summary()\n",
        "\n",
        "\n",
        "model.fit(train_x, train_y, epochs=5, verbose=1, batch_size=128)\n",
        "\n",
        "\n",
        "loss, acc = model.evaluate(test_x, test_y)\n",
        "print(\"loss=\",loss)\n",
        "print(\"acc=\",acc)\n",
        "\n",
        "y_ = model.predict(test_x)\n",
        "predicted = np.argmax(y_, axis=1)\n",
        "\n",
        "print(predicted)"
      ],
      "execution_count": null,
      "outputs": [
        {
          "output_type": "stream",
          "text": [
            "Model: \"sequential_5\"\n",
            "_________________________________________________________________\n",
            "Layer (type)                 Output Shape              Param #   \n",
            "=================================================================\n",
            "flatten_3 (Flatten)          (None, 784)               0         \n",
            "_________________________________________________________________\n",
            "dense_15 (Dense)             (None, 10)                7850      \n",
            "_________________________________________________________________\n",
            "dense_16 (Dense)             (None, 10)                110       \n",
            "_________________________________________________________________\n",
            "dense_17 (Dense)             (None, 10)                110       \n",
            "=================================================================\n",
            "Total params: 8,070\n",
            "Trainable params: 8,070\n",
            "Non-trainable params: 0\n",
            "_________________________________________________________________\n",
            "Epoch 1/5\n",
            "60000/60000 [==============================] - 1s 18us/sample - loss: 4.1636 - acc: 0.1091\n",
            "Epoch 2/5\n",
            "60000/60000 [==============================] - 1s 17us/sample - loss: 2.3027 - acc: 0.1123\n",
            "Epoch 3/5\n",
            "60000/60000 [==============================] - 1s 16us/sample - loss: 2.3011 - acc: 0.1126\n",
            "Epoch 4/5\n",
            "60000/60000 [==============================] - 1s 16us/sample - loss: 2.2933 - acc: 0.1176\n",
            "Epoch 5/5\n",
            "60000/60000 [==============================] - 1s 17us/sample - loss: 2.1994 - acc: 0.1655\n",
            "10000/10000 [==============================] - 0s 27us/sample - loss: 2.1274 - acc: 0.1931\n",
            "loss= 2.127422957611084\n",
            "acc= 0.1931\n",
            "[1 2 1 ... 1 1 1]\n"
          ],
          "name": "stdout"
        }
      ]
    },
    {
      "cell_type": "markdown",
      "metadata": {
        "id": "QXRsbuhi_fxp"
      },
      "source": [
        "학습이 진행되지만 normalization 안했을 때 보다 더디게 진행된다.\n",
        "\n",
        "아래는 normalization을 안했을 때\n",
        "```\n",
        "Epoch 1/5\n",
        "60000/60000 [==============================] - 1s 18us/sample - loss: 2.4654 - acc: 0.1538\n",
        "Epoch 2/5\n",
        "60000/60000 [==============================] - 1s 19us/sample - loss: 1.9504 - acc: 0.2509\n",
        "Epoch 3/5\n",
        "60000/60000 [==============================] - 1s 17us/sample - loss: 1.7553 - acc: 0.3037\n",
        "Epoch 4/5\n",
        "60000/60000 [==============================] - 1s 18us/sample - loss: 1.6404 - acc: 0.3354\n",
        "Epoch 5/5\n",
        "60000/60000 [==============================] - 1s 18us/sample - loss: 1.5597 - acc: 0.3471\n",
        "10000/10000 [==============================] - 0s 26us/sample - loss: 1.5352 - acc: 0.3417\n",
        "loss= 1.5351685056686402\n",
        "acc= 0.3417\n",
        "```"
      ]
    },
    {
      "cell_type": "markdown",
      "metadata": {
        "id": "wLZWVTr_Abcy"
      },
      "source": [
        "## 0 ~ 0.5로 하면"
      ]
    },
    {
      "cell_type": "code",
      "metadata": {
        "id": "1xE5wv_w_ceD"
      },
      "source": [
        "(train_x, train_y), (test_x, test_y) = tf.keras.datasets.mnist.load_data()\n",
        "\n",
        "# train_x = train_x/255\n",
        "# test_x = test_x/255\n",
        "train_x = train_x/255/2\n",
        "test_x = test_x/255/2"
      ],
      "execution_count": null,
      "outputs": []
    },
    {
      "cell_type": "code",
      "metadata": {
        "id": "UFyXibot_1Ng",
        "colab": {
          "base_uri": "https://localhost:8080/",
          "height": 535
        },
        "outputId": "ba47fca6-e316-4233-d89f-5fb5531dbbad"
      },
      "source": [
        "model = keras.Sequential()\n",
        "model.add(Flatten(input_shape=(28, 28)))\n",
        "model.add(Dense(10, activation='relu'))\n",
        "model.add(Dense(10, activation='relu'))\n",
        "model.add(Dense(10, activation='softmax'))\n",
        "\n",
        "model.compile(optimizer=\"adam\", loss=\"sparse_categorical_crossentropy\", metrics=[\"accuracy\"])\n",
        "model.summary()\n",
        "\n",
        "\n",
        "model.fit(train_x, train_y, epochs=5, verbose=1, batch_size=128)\n",
        "\n",
        "\n",
        "loss, acc = model.evaluate(test_x, test_y)\n",
        "print(\"loss=\",loss)\n",
        "print(\"acc=\",acc)\n",
        "\n",
        "y_ = model.predict(test_x)\n",
        "predicted = np.argmax(y_, axis=1)\n",
        "\n",
        "print(predicted)"
      ],
      "execution_count": null,
      "outputs": [
        {
          "output_type": "stream",
          "text": [
            "Model: \"sequential_8\"\n",
            "_________________________________________________________________\n",
            "Layer (type)                 Output Shape              Param #   \n",
            "=================================================================\n",
            "flatten_6 (Flatten)          (None, 784)               0         \n",
            "_________________________________________________________________\n",
            "dense_24 (Dense)             (None, 10)                7850      \n",
            "_________________________________________________________________\n",
            "dense_25 (Dense)             (None, 10)                110       \n",
            "_________________________________________________________________\n",
            "dense_26 (Dense)             (None, 10)                110       \n",
            "=================================================================\n",
            "Total params: 8,070\n",
            "Trainable params: 8,070\n",
            "Non-trainable params: 0\n",
            "_________________________________________________________________\n",
            "Epoch 1/5\n",
            "60000/60000 [==============================] - 1s 20us/sample - loss: 1.0266 - acc: 0.6823\n",
            "Epoch 2/5\n",
            "60000/60000 [==============================] - 1s 19us/sample - loss: 0.4344 - acc: 0.8783\n",
            "Epoch 3/5\n",
            "60000/60000 [==============================] - 1s 19us/sample - loss: 0.3587 - acc: 0.8995\n",
            "Epoch 4/5\n",
            "60000/60000 [==============================] - 1s 18us/sample - loss: 0.3184 - acc: 0.9108\n",
            "Epoch 5/5\n",
            "60000/60000 [==============================] - 1s 19us/sample - loss: 0.2932 - acc: 0.9169\n",
            "10000/10000 [==============================] - 0s 31us/sample - loss: 0.2841 - acc: 0.9174\n",
            "loss= 0.28412638966143133\n",
            "acc= 0.9174\n",
            "[7 2 1 ... 4 5 6]\n"
          ],
          "name": "stdout"
        }
      ]
    },
    {
      "cell_type": "markdown",
      "metadata": {
        "id": "EsHcOKyP_9T3"
      },
      "source": [
        "학습이 되며 0~1로 normalization했을 때 보다 살짝 더디다\n",
        "\n",
        "아래는 0~1로 normalization을 했을 때\n",
        "```\n",
        "Epoch 1/5\n",
        "60000/60000 [==============================] - 1s 20us/sample - loss: 0.8862 - acc: 0.7278\n",
        "Epoch 2/5\n",
        "60000/60000 [==============================] - 1s 20us/sample - loss: 0.3659 - acc: 0.8950\n",
        "Epoch 3/5\n",
        "60000/60000 [==============================] - 1s 20us/sample - loss: 0.3164 - acc: 0.9100\n",
        "Epoch 4/5\n",
        "60000/60000 [==============================] - 1s 20us/sample - loss: 0.2904 - acc: 0.9171\n",
        "Epoch 5/5\n",
        "60000/60000 [==============================] - 1s 20us/sample - loss: 0.2724 - acc: 0.9225\n",
        "10000/10000 [==============================] - 0s 27us/sample - loss: 0.2613 - acc: 0.9265\n",
        "loss= 0.26132496373653413\n",
        "acc= 0.9265\n",
        "```"
      ]
    },
    {
      "cell_type": "markdown",
      "metadata": {
        "id": "P7Wm0dNTAuEb"
      },
      "source": [
        "## 0 ~ 2로 하면"
      ]
    },
    {
      "cell_type": "code",
      "metadata": {
        "id": "_EXcTUBy_5xN"
      },
      "source": [
        "(train_x, train_y), (test_x, test_y) = tf.keras.datasets.mnist.load_data()\n",
        "\n",
        "# train_x = train_x/255\n",
        "# test_x = test_x/255\n",
        "train_x = train_x/255*2\n",
        "test_x = test_x/255*2"
      ],
      "execution_count": null,
      "outputs": []
    },
    {
      "cell_type": "code",
      "metadata": {
        "id": "0cKj6SChAxPz",
        "colab": {
          "base_uri": "https://localhost:8080/",
          "height": 535
        },
        "outputId": "c14077b6-c3d9-41b9-acb9-e07a9fa33edf"
      },
      "source": [
        "model = keras.Sequential()\n",
        "model.add(Flatten(input_shape=(28, 28)))\n",
        "model.add(Dense(10, activation='relu'))\n",
        "model.add(Dense(10, activation='relu'))\n",
        "model.add(Dense(10, activation='softmax'))\n",
        "\n",
        "model.compile(optimizer=\"adam\", loss=\"sparse_categorical_crossentropy\", metrics=[\"accuracy\"])\n",
        "model.summary()\n",
        "\n",
        "\n",
        "model.fit(train_x, train_y, epochs=5, verbose=1, batch_size=128)\n",
        "\n",
        "\n",
        "loss, acc = model.evaluate(test_x, test_y)\n",
        "print(\"loss=\",loss)\n",
        "print(\"acc=\",acc)\n",
        "\n",
        "y_ = model.predict(test_x)\n",
        "predicted = np.argmax(y_, axis=1)\n",
        "\n",
        "print(predicted)"
      ],
      "execution_count": null,
      "outputs": [
        {
          "output_type": "stream",
          "text": [
            "Model: \"sequential_9\"\n",
            "_________________________________________________________________\n",
            "Layer (type)                 Output Shape              Param #   \n",
            "=================================================================\n",
            "flatten_7 (Flatten)          (None, 784)               0         \n",
            "_________________________________________________________________\n",
            "dense_27 (Dense)             (None, 10)                7850      \n",
            "_________________________________________________________________\n",
            "dense_28 (Dense)             (None, 10)                110       \n",
            "_________________________________________________________________\n",
            "dense_29 (Dense)             (None, 10)                110       \n",
            "=================================================================\n",
            "Total params: 8,070\n",
            "Trainable params: 8,070\n",
            "Non-trainable params: 0\n",
            "_________________________________________________________________\n",
            "Epoch 1/5\n",
            "60000/60000 [==============================] - 1s 21us/sample - loss: 0.7630 - acc: 0.7654\n",
            "Epoch 2/5\n",
            "60000/60000 [==============================] - 1s 19us/sample - loss: 0.3363 - acc: 0.9045\n",
            "Epoch 3/5\n",
            "60000/60000 [==============================] - 1s 19us/sample - loss: 0.2965 - acc: 0.9152\n",
            "Epoch 4/5\n",
            "60000/60000 [==============================] - 1s 19us/sample - loss: 0.2724 - acc: 0.9212\n",
            "Epoch 5/5\n",
            "60000/60000 [==============================] - 1s 19us/sample - loss: 0.2548 - acc: 0.9267\n",
            "10000/10000 [==============================] - 0s 31us/sample - loss: 0.2541 - acc: 0.9268\n",
            "loss= 0.25408969558775424\n",
            "acc= 0.9268\n",
            "[7 2 1 ... 4 5 6]\n"
          ],
          "name": "stdout"
        }
      ]
    },
    {
      "cell_type": "markdown",
      "metadata": {
        "id": "14ZadaUTA3Qd"
      },
      "source": [
        "학습이 되며 0~1로 normalization했을 때 보다 살짝 빠르다\n",
        "\n",
        "아래는 0~1로 normalization을 했을 때\n",
        "```\n",
        "Epoch 1/5\n",
        "60000/60000 [==============================] - 1s 20us/sample - loss: 0.8862 - acc: 0.7278\n",
        "Epoch 2/5\n",
        "60000/60000 [==============================] - 1s 20us/sample - loss: 0.3659 - acc: 0.8950\n",
        "Epoch 3/5\n",
        "60000/60000 [==============================] - 1s 20us/sample - loss: 0.3164 - acc: 0.9100\n",
        "Epoch 4/5\n",
        "60000/60000 [==============================] - 1s 20us/sample - loss: 0.2904 - acc: 0.9171\n",
        "Epoch 5/5\n",
        "60000/60000 [==============================] - 1s 20us/sample - loss: 0.2724 - acc: 0.9225\n",
        "10000/10000 [==============================] - 0s 27us/sample - loss: 0.2613 - acc: 0.9265\n",
        "loss= 0.26132496373653413\n",
        "acc= 0.9265\n",
        "```"
      ]
    },
    {
      "cell_type": "code",
      "metadata": {
        "id": "qtntCeHWW42I"
      },
      "source": [
        ""
      ],
      "execution_count": null,
      "outputs": []
    }
  ]
}
{
  "nbformat": 4,
  "nbformat_minor": 0,
  "metadata": {
    "colab": {
      "name": "denoising_autoencoder.ipynb",
      "provenance": []
    },
    "kernelspec": {
      "name": "python3",
      "display_name": "Python 3"
    },
    "accelerator": "GPU"
  },
  "cells": [
    {
      "cell_type": "code",
      "metadata": {
        "id": "7u-zHeaOyjn2",
        "colab_type": "code",
        "colab": {
          "base_uri": "https://localhost:8080/",
          "height": 36
        },
        "outputId": "6b864f77-0928-403e-e8aa-7a71f5196f8a"
      },
      "source": [
        "%tensorflow_version 1.x"
      ],
      "execution_count": 1,
      "outputs": [
        {
          "output_type": "stream",
          "text": [
            "TensorFlow 1.x selected.\n"
          ],
          "name": "stdout"
        }
      ]
    },
    {
      "cell_type": "markdown",
      "metadata": {
        "id": "jLKCaOxfGQg3",
        "colab_type": "text"
      },
      "source": [
        "copy from https://blog.naver.com/ckdgus1433/221443838135"
      ]
    },
    {
      "cell_type": "markdown",
      "metadata": {
        "id": "3gUCJI7zK6V0",
        "colab_type": "text"
      },
      "source": [
        "# 모듈 임포팅"
      ]
    },
    {
      "cell_type": "code",
      "metadata": {
        "id": "Y3ayalJEK4Me",
        "colab_type": "code",
        "colab": {}
      },
      "source": [
        "import matplotlib.pyplot as plt\n",
        "import numpy as np\n",
        "from tensorflow.keras.datasets import mnist\n",
        "from tensorflow.keras.layers import Dense\n",
        "from tensorflow.keras.models import Sequential"
      ],
      "execution_count": 4,
      "outputs": []
    },
    {
      "cell_type": "markdown",
      "metadata": {
        "id": "-8b8fVWQK9JD",
        "colab_type": "text"
      },
      "source": [
        "# 데이터 로딩"
      ]
    },
    {
      "cell_type": "code",
      "metadata": {
        "id": "D0QMMukcK56L",
        "colab_type": "code",
        "colab": {}
      },
      "source": [
        "# MNIST 로딩 (라벨은 필요없기 때문에 버림)\n",
        "(x_train, _), (x_test, _) = mnist.load_data()"
      ],
      "execution_count": 5,
      "outputs": []
    },
    {
      "cell_type": "markdown",
      "metadata": {
        "id": "OOAbPf_ZK_6b",
        "colab_type": "text"
      },
      "source": [
        "# Normalization"
      ]
    },
    {
      "cell_type": "code",
      "metadata": {
        "id": "WWimdhYPLBTj",
        "colab_type": "code",
        "colab": {}
      },
      "source": [
        "# 데이터 정규화\n",
        "x_train = x_train.astype('float32') / 255.\n",
        "x_test = x_test.astype('float32') / 255."
      ],
      "execution_count": 6,
      "outputs": []
    },
    {
      "cell_type": "markdown",
      "metadata": {
        "id": "COdPgRsoLBjD",
        "colab_type": "text"
      },
      "source": [
        "# Flattening"
      ]
    },
    {
      "cell_type": "code",
      "metadata": {
        "id": "wjDc3mmbLB-D",
        "colab_type": "code",
        "colab": {}
      },
      "source": [
        "x_train = np.reshape(x_train, (len(x_train), 784))\n",
        "x_test = np.reshape(x_test, (len(x_test), 784))"
      ],
      "execution_count": 7,
      "outputs": []
    },
    {
      "cell_type": "markdown",
      "metadata": {
        "id": "zNfjHZQSLN-s",
        "colab_type": "text"
      },
      "source": [
        "# 노이즈 추가"
      ]
    },
    {
      "cell_type": "code",
      "metadata": {
        "id": "dTSIWBn7NeuA",
        "colab_type": "code",
        "colab": {}
      },
      "source": [
        "noise = np.random.normal(loc=0.0, scale=1.0, size=10000) "
      ],
      "execution_count": 22,
      "outputs": []
    },
    {
      "cell_type": "code",
      "metadata": {
        "id": "zZplNkNxN5dl",
        "colab_type": "code",
        "colab": {
          "base_uri": "https://localhost:8080/",
          "height": 265
        },
        "outputId": "04a3e20e-ea29-4c13-8681-4015f75d7b1b"
      },
      "source": [
        "plt.hist(noise, bins=1000, range=(-2., 2.))\n",
        "plt.show()"
      ],
      "execution_count": 23,
      "outputs": [
        {
          "output_type": "display_data",
          "data": {
            "image/png": "[encoded data removed]",
            "text/plain": [
              "<Figure size 432x288 with 1 Axes>"
            ]
          },
          "metadata": {
            "tags": [],
            "needs_background": "light"
          }
        }
      ]
    },
    {
      "cell_type": "code",
      "metadata": {
        "id": "tvOfQ4hMLLo7",
        "colab_type": "code",
        "colab": {}
      },
      "source": [
        "# 원본데이터에 Noise 추가\n",
        "noise_factor = 0.5\n",
        "x_train_noisy = x_train + noise_factor * np.random.normal(loc=0.0, scale=1.0, size=x_train.shape) \n",
        "x_test_noisy = x_test + noise_factor * np.random.normal(loc=0.0, scale=1.0, size=x_test.shape) \n",
        "\n",
        "# 최대가 1, 최소가 0이 되도록 \n",
        "x_train_noisy = np.clip(x_train_noisy, 0., 1.)\n",
        "x_test_noisy = np.clip(x_test_noisy, 0., 1.)"
      ],
      "execution_count": 8,
      "outputs": []
    },
    {
      "cell_type": "markdown",
      "metadata": {
        "id": "6na4p0mnLj8j",
        "colab_type": "text"
      },
      "source": [
        "# 노이즈 추가된 영상 보기"
      ]
    },
    {
      "cell_type": "code",
      "metadata": {
        "id": "y--Ep7aULL17",
        "colab_type": "code",
        "colab": {
          "base_uri": "https://localhost:8080/",
          "height": 111
        },
        "outputId": "7081071f-4258-48d2-e908-6ff7e9f22330"
      },
      "source": [
        "# Noise가 추가된 데이터 확인\n",
        "n = 10\n",
        "plt.figure(figsize=(20, 2))\n",
        "for i in range(1,n):\n",
        "    ax = plt.subplot(1, n, i)\n",
        "    plt.imshow(x_test_noisy[i].reshape(28, 28))\n",
        "    plt.gray()\n",
        "    ax.get_xaxis().set_visible(False)\n",
        "    ax.get_yaxis().set_visible(False)\n",
        "plt.show()"
      ],
      "execution_count": 25,
      "outputs": [
        {
          "output_type": "display_data",
          "data": {
            "image/png": "[encoded data removed]",
            "text/plain": [
              "<Figure size 1440x144 with 9 Axes>"
            ]
          },
          "metadata": {
            "tags": [],
            "needs_background": "light"
          }
        }
      ]
    },
    {
      "cell_type": "markdown",
      "metadata": {
        "id": "i01JyXUqL7yF",
        "colab_type": "text"
      },
      "source": [
        "# 모델 정의와 학습 실행"
      ]
    },
    {
      "cell_type": "code",
      "metadata": {
        "id": "bvY_c15CLL48",
        "colab_type": "code",
        "colab": {
          "base_uri": "https://localhost:8080/",
          "height": 1000
        },
        "outputId": "41c905e7-ad90-419e-9ec7-a524b252f5d3"
      },
      "source": [
        "# 모형 구성\n",
        "model = Sequential()\n",
        "model.add(Dense(128, activation='relu', input_dim=784))\n",
        "model.add(Dense(64, activation='relu'))\n",
        "model.add(Dense(32, activation='relu'))\n",
        "model.add(Dense(64, activation='relu'))\n",
        "model.add(Dense(128, activation='relu'))\n",
        "model.add(Dense(784, activation='sigmoid'))\n",
        "model.compile(optimizer='adam', loss='binary_crossentropy')\n",
        "\n",
        "\n",
        "# 모형 학습\n",
        "model.fit(x_train_noisy, x_train, \n",
        "          epochs=100,\n",
        "          batch_size=256,\n",
        "          shuffle=True,\n",
        "          validation_data=(x_test_noisy, x_test))\n"
      ],
      "execution_count": 28,
      "outputs": [
        {
          "output_type": "stream",
          "text": [
            "Train on 60000 samples, validate on 10000 samples\n",
            "Epoch 1/100\n",
            "60000/60000 [==============================] - 1s 22us/sample - loss: 0.2679 - val_loss: 0.2134\n",
            "Epoch 2/100\n",
            "60000/60000 [==============================] - 1s 17us/sample - loss: 0.1875 - val_loss: 0.1733\n",
            "Epoch 3/100\n",
            "60000/60000 [==============================] - 1s 17us/sample - loss: 0.1680 - val_loss: 0.1618\n",
            "Epoch 4/100\n",
            "60000/60000 [==============================] - 1s 16us/sample - loss: 0.1579 - val_loss: 0.1533\n",
            "Epoch 5/100\n",
            "60000/60000 [==============================] - 1s 17us/sample - loss: 0.1514 - val_loss: 0.1474\n",
            "Epoch 6/100\n",
            "60000/60000 [==============================] - 1s 17us/sample - loss: 0.1463 - val_loss: 0.1434\n",
            "Epoch 7/100\n",
            "60000/60000 [==============================] - 1s 17us/sample - loss: 0.1426 - val_loss: 0.1404\n",
            "Epoch 8/100\n",
            "60000/60000 [==============================] - 1s 17us/sample - loss: 0.1397 - val_loss: 0.1378\n",
            "Epoch 9/100\n",
            "60000/60000 [==============================] - 1s 16us/sample - loss: 0.1373 - val_loss: 0.1370\n",
            "Epoch 10/100\n",
            "60000/60000 [==============================] - 1s 16us/sample - loss: 0.1351 - val_loss: 0.1336\n",
            "Epoch 11/100\n",
            "60000/60000 [==============================] - 1s 17us/sample - loss: 0.1334 - val_loss: 0.1324\n",
            "Epoch 12/100\n",
            "60000/60000 [==============================] - 1s 17us/sample - loss: 0.1319 - val_loss: 0.1306\n",
            "Epoch 13/100\n",
            "60000/60000 [==============================] - 1s 17us/sample - loss: 0.1303 - val_loss: 0.1292\n",
            "Epoch 14/100\n",
            "60000/60000 [==============================] - 1s 17us/sample - loss: 0.1289 - val_loss: 0.1281\n",
            "Epoch 15/100\n",
            "60000/60000 [==============================] - 1s 17us/sample - loss: 0.1276 - val_loss: 0.1268\n",
            "Epoch 16/100\n",
            "60000/60000 [==============================] - 1s 17us/sample - loss: 0.1265 - val_loss: 0.1261\n",
            "Epoch 17/100\n",
            "60000/60000 [==============================] - 1s 17us/sample - loss: 0.1255 - val_loss: 0.1256\n",
            "Epoch 18/100\n",
            "60000/60000 [==============================] - 1s 17us/sample - loss: 0.1246 - val_loss: 0.1250\n",
            "Epoch 19/100\n",
            "60000/60000 [==============================] - 1s 16us/sample - loss: 0.1240 - val_loss: 0.1236\n",
            "Epoch 20/100\n",
            "60000/60000 [==============================] - 1s 16us/sample - loss: 0.1232 - val_loss: 0.1235\n",
            "Epoch 21/100\n",
            "60000/60000 [==============================] - 1s 17us/sample - loss: 0.1226 - val_loss: 0.1229\n",
            "Epoch 22/100\n",
            "60000/60000 [==============================] - 1s 17us/sample - loss: 0.1220 - val_loss: 0.1228\n",
            "Epoch 23/100\n",
            "60000/60000 [==============================] - 1s 17us/sample - loss: 0.1216 - val_loss: 0.1219\n",
            "Epoch 24/100\n",
            "60000/60000 [==============================] - 1s 16us/sample - loss: 0.1209 - val_loss: 0.1214\n",
            "Epoch 25/100\n",
            "60000/60000 [==============================] - 1s 17us/sample - loss: 0.1206 - val_loss: 0.1211\n",
            "Epoch 26/100\n",
            "60000/60000 [==============================] - 1s 16us/sample - loss: 0.1201 - val_loss: 0.1207\n",
            "Epoch 27/100\n",
            "60000/60000 [==============================] - 1s 16us/sample - loss: 0.1196 - val_loss: 0.1205\n",
            "Epoch 28/100\n",
            "60000/60000 [==============================] - 1s 16us/sample - loss: 0.1193 - val_loss: 0.1201\n",
            "Epoch 29/100\n",
            "60000/60000 [==============================] - 1s 16us/sample - loss: 0.1190 - val_loss: 0.1199\n",
            "Epoch 30/100\n",
            "60000/60000 [==============================] - 1s 17us/sample - loss: 0.1186 - val_loss: 0.1199\n",
            "Epoch 31/100\n",
            "60000/60000 [==============================] - 1s 16us/sample - loss: 0.1182 - val_loss: 0.1193\n",
            "Epoch 32/100\n",
            "60000/60000 [==============================] - 1s 17us/sample - loss: 0.1179 - val_loss: 0.1186\n",
            "Epoch 33/100\n",
            "60000/60000 [==============================] - 1s 17us/sample - loss: 0.1176 - val_loss: 0.1189\n",
            "Epoch 34/100\n",
            "60000/60000 [==============================] - 1s 16us/sample - loss: 0.1173 - val_loss: 0.1187\n",
            "Epoch 35/100\n",
            "60000/60000 [==============================] - 1s 16us/sample - loss: 0.1171 - val_loss: 0.1178\n",
            "Epoch 36/100\n",
            "60000/60000 [==============================] - 1s 16us/sample - loss: 0.1167 - val_loss: 0.1180\n",
            "Epoch 37/100\n",
            "60000/60000 [==============================] - 1s 17us/sample - loss: 0.1165 - val_loss: 0.1176\n",
            "Epoch 38/100\n",
            "60000/60000 [==============================] - 1s 16us/sample - loss: 0.1161 - val_loss: 0.1173\n",
            "Epoch 39/100\n",
            "60000/60000 [==============================] - 1s 16us/sample - loss: 0.1159 - val_loss: 0.1178\n",
            "Epoch 40/100\n",
            "60000/60000 [==============================] - 1s 16us/sample - loss: 0.1157 - val_loss: 0.1168\n",
            "Epoch 41/100\n",
            "60000/60000 [==============================] - 1s 17us/sample - loss: 0.1154 - val_loss: 0.1165\n",
            "Epoch 42/100\n",
            "60000/60000 [==============================] - 1s 17us/sample - loss: 0.1152 - val_loss: 0.1164\n",
            "Epoch 43/100\n",
            "60000/60000 [==============================] - 1s 17us/sample - loss: 0.1150 - val_loss: 0.1163\n",
            "Epoch 44/100\n",
            "60000/60000 [==============================] - 1s 16us/sample - loss: 0.1149 - val_loss: 0.1165\n",
            "Epoch 45/100\n",
            "60000/60000 [==============================] - 1s 17us/sample - loss: 0.1146 - val_loss: 0.1162\n",
            "Epoch 46/100\n",
            "60000/60000 [==============================] - 1s 16us/sample - loss: 0.1145 - val_loss: 0.1159\n",
            "Epoch 47/100\n",
            "60000/60000 [==============================] - 1s 16us/sample - loss: 0.1144 - val_loss: 0.1158\n",
            "Epoch 48/100\n",
            "60000/60000 [==============================] - 1s 16us/sample - loss: 0.1142 - val_loss: 0.1162\n",
            "Epoch 49/100\n",
            "60000/60000 [==============================] - 1s 16us/sample - loss: 0.1140 - val_loss: 0.1159\n",
            "Epoch 50/100\n",
            "60000/60000 [==============================] - 1s 16us/sample - loss: 0.1138 - val_loss: 0.1157\n",
            "Epoch 51/100\n",
            "60000/60000 [==============================] - 1s 16us/sample - loss: 0.1137 - val_loss: 0.1159\n",
            "Epoch 52/100\n",
            "60000/60000 [==============================] - 1s 17us/sample - loss: 0.1136 - val_loss: 0.1156\n",
            "Epoch 53/100\n",
            "60000/60000 [==============================] - 1s 17us/sample - loss: 0.1134 - val_loss: 0.1152\n",
            "Epoch 54/100\n",
            "60000/60000 [==============================] - 1s 17us/sample - loss: 0.1133 - val_loss: 0.1149\n",
            "Epoch 55/100\n",
            "60000/60000 [==============================] - 1s 16us/sample - loss: 0.1132 - val_loss: 0.1148\n",
            "Epoch 56/100\n",
            "60000/60000 [==============================] - 1s 16us/sample - loss: 0.1131 - val_loss: 0.1149\n",
            "Epoch 57/100\n",
            "60000/60000 [==============================] - 1s 17us/sample - loss: 0.1130 - val_loss: 0.1153\n",
            "Epoch 58/100\n",
            "60000/60000 [==============================] - 1s 17us/sample - loss: 0.1130 - val_loss: 0.1157\n",
            "Epoch 59/100\n",
            "60000/60000 [==============================] - 1s 17us/sample - loss: 0.1128 - val_loss: 0.1146\n",
            "Epoch 60/100\n",
            "60000/60000 [==============================] - 1s 17us/sample - loss: 0.1127 - val_loss: 0.1146\n",
            "Epoch 61/100\n",
            "60000/60000 [==============================] - 1s 16us/sample - loss: 0.1126 - val_loss: 0.1144\n",
            "Epoch 62/100\n",
            "60000/60000 [==============================] - 1s 16us/sample - loss: 0.1124 - val_loss: 0.1144\n",
            "Epoch 63/100\n",
            "60000/60000 [==============================] - 1s 17us/sample - loss: 0.1124 - val_loss: 0.1144\n",
            "Epoch 64/100\n",
            "60000/60000 [==============================] - 1s 17us/sample - loss: 0.1123 - val_loss: 0.1142\n",
            "Epoch 65/100\n",
            "60000/60000 [==============================] - 1s 17us/sample - loss: 0.1122 - val_loss: 0.1143\n",
            "Epoch 66/100\n",
            "60000/60000 [==============================] - 1s 17us/sample - loss: 0.1121 - val_loss: 0.1143\n",
            "Epoch 67/100\n",
            "60000/60000 [==============================] - 1s 16us/sample - loss: 0.1121 - val_loss: 0.1144\n",
            "Epoch 68/100\n",
            "60000/60000 [==============================] - 1s 16us/sample - loss: 0.1120 - val_loss: 0.1141\n",
            "Epoch 69/100\n",
            "60000/60000 [==============================] - 1s 17us/sample - loss: 0.1119 - val_loss: 0.1139\n",
            "Epoch 70/100\n",
            "60000/60000 [==============================] - 1s 16us/sample - loss: 0.1118 - val_loss: 0.1141\n",
            "Epoch 71/100\n",
            "60000/60000 [==============================] - 1s 17us/sample - loss: 0.1118 - val_loss: 0.1141\n",
            "Epoch 72/100\n",
            "60000/60000 [==============================] - 1s 17us/sample - loss: 0.1117 - val_loss: 0.1141\n",
            "Epoch 73/100\n",
            "60000/60000 [==============================] - 1s 17us/sample - loss: 0.1116 - val_loss: 0.1137\n",
            "Epoch 74/100\n",
            "60000/60000 [==============================] - 1s 17us/sample - loss: 0.1116 - val_loss: 0.1142\n",
            "Epoch 75/100\n",
            "60000/60000 [==============================] - 1s 17us/sample - loss: 0.1115 - val_loss: 0.1141\n",
            "Epoch 76/100\n",
            "60000/60000 [==============================] - 1s 16us/sample - loss: 0.1114 - val_loss: 0.1136\n",
            "Epoch 77/100\n",
            "60000/60000 [==============================] - 1s 17us/sample - loss: 0.1114 - val_loss: 0.1137\n",
            "Epoch 78/100\n",
            "60000/60000 [==============================] - 1s 17us/sample - loss: 0.1113 - val_loss: 0.1136\n",
            "Epoch 79/100\n",
            "60000/60000 [==============================] - 1s 16us/sample - loss: 0.1112 - val_loss: 0.1138\n",
            "Epoch 80/100\n",
            "60000/60000 [==============================] - 1s 17us/sample - loss: 0.1112 - val_loss: 0.1139\n",
            "Epoch 81/100\n",
            "60000/60000 [==============================] - 1s 17us/sample - loss: 0.1112 - val_loss: 0.1138\n",
            "Epoch 82/100\n",
            "60000/60000 [==============================] - 1s 16us/sample - loss: 0.1111 - val_loss: 0.1137\n",
            "Epoch 83/100\n",
            "60000/60000 [==============================] - 1s 17us/sample - loss: 0.1111 - val_loss: 0.1135\n",
            "Epoch 84/100\n",
            "60000/60000 [==============================] - 1s 16us/sample - loss: 0.1110 - val_loss: 0.1137\n",
            "Epoch 85/100\n",
            "60000/60000 [==============================] - 1s 16us/sample - loss: 0.1109 - val_loss: 0.1144\n",
            "Epoch 86/100\n",
            "60000/60000 [==============================] - 1s 16us/sample - loss: 0.1110 - val_loss: 0.1138\n",
            "Epoch 87/100\n",
            "60000/60000 [==============================] - 1s 18us/sample - loss: 0.1109 - val_loss: 0.1133\n",
            "Epoch 88/100\n",
            "60000/60000 [==============================] - 1s 17us/sample - loss: 0.1108 - val_loss: 0.1133\n",
            "Epoch 89/100\n",
            "60000/60000 [==============================] - 1s 17us/sample - loss: 0.1108 - val_loss: 0.1136\n",
            "Epoch 90/100\n",
            "60000/60000 [==============================] - 1s 17us/sample - loss: 0.1107 - val_loss: 0.1134\n",
            "Epoch 91/100\n",
            "60000/60000 [==============================] - 1s 17us/sample - loss: 0.1106 - val_loss: 0.1136\n",
            "Epoch 92/100\n",
            "60000/60000 [==============================] - 1s 17us/sample - loss: 0.1106 - val_loss: 0.1135\n",
            "Epoch 93/100\n",
            "60000/60000 [==============================] - 1s 17us/sample - loss: 0.1106 - val_loss: 0.1135\n",
            "Epoch 94/100\n",
            "60000/60000 [==============================] - 1s 17us/sample - loss: 0.1106 - val_loss: 0.1135\n",
            "Epoch 95/100\n",
            "60000/60000 [==============================] - 1s 17us/sample - loss: 0.1106 - val_loss: 0.1133\n",
            "Epoch 96/100\n",
            "60000/60000 [==============================] - 1s 17us/sample - loss: 0.1104 - val_loss: 0.1136\n",
            "Epoch 97/100\n",
            "60000/60000 [==============================] - 1s 17us/sample - loss: 0.1105 - val_loss: 0.1134\n",
            "Epoch 98/100\n",
            "60000/60000 [==============================] - 1s 16us/sample - loss: 0.1103 - val_loss: 0.1132\n",
            "Epoch 99/100\n",
            "60000/60000 [==============================] - 1s 16us/sample - loss: 0.1103 - val_loss: 0.1133\n",
            "Epoch 100/100\n",
            "60000/60000 [==============================] - 1s 16us/sample - loss: 0.1102 - val_loss: 0.1135\n"
          ],
          "name": "stdout"
        },
        {
          "output_type": "execute_result",
          "data": {
            "text/plain": [
              "<tensorflow.python.keras.callbacks.History at 0x7f5ff47ee898>"
            ]
          },
          "metadata": {
            "tags": []
          },
          "execution_count": 28
        }
      ]
    },
    {
      "cell_type": "markdown",
      "metadata": {
        "id": "eP3_P6rDMCFa",
        "colab_type": "text"
      },
      "source": [
        "# 결과 확인"
      ]
    },
    {
      "cell_type": "code",
      "metadata": {
        "id": "2y4hQ-VfFxF4",
        "colab_type": "code",
        "colab": {
          "base_uri": "https://localhost:8080/",
          "height": 303
        },
        "outputId": "8ff774c8-2bf6-4ded-90ed-b1b013f7c62b"
      },
      "source": [
        "decoded_imgs = model.predict(x_test_noisy)\n",
        "\n",
        "n = 10\n",
        "plt.figure(figsize=(20, 6))\n",
        "for i in range(1,n):\n",
        "    # 원본 표시\n",
        "    ax = plt.subplot(3, n, i)\n",
        "    plt.imshow(x_test[i].reshape(28, 28))\n",
        "    plt.gray()\n",
        "    ax.get_xaxis().set_visible(False)\n",
        "    ax.get_yaxis().set_visible(False)\n",
        "\n",
        "    # 노이즈 첨가 된 것\n",
        "    ax = plt.subplot(3, n, i + n)\n",
        "    plt.imshow(x_test_noisy[i].reshape(28, 28))\n",
        "    plt.gray()\n",
        "    ax.get_xaxis().set_visible(False)\n",
        "    ax.get_yaxis().set_visible(False)\n",
        "\n",
        "    # 노이즈 제거 된 것\n",
        "    ax = plt.subplot(3, n, i + 2*n)\n",
        "    plt.imshow(decoded_imgs[i].reshape(28, 28))\n",
        "    plt.gray()\n",
        "    ax.get_xaxis().set_visible(False)\n",
        "    ax.get_yaxis().set_visible(False)\n",
        "plt.show()"
      ],
      "execution_count": 29,
      "outputs": [
        {
          "output_type": "display_data",
          "data": {
            "image/png": "[encoded data removed]",
            "text/plain": [
              "<Figure size 1440x432 with 27 Axes>"
            ]
          },
          "metadata": {
            "tags": [],
            "needs_background": "light"
          }
        }
      ]
    },
    {
      "cell_type": "code",
      "metadata": {
        "id": "fTqVK4F6F1S2",
        "colab_type": "code",
        "colab": {}
      },
      "source": [
        ""
      ],
      "execution_count": null,
      "outputs": []
    }
  ]
}
